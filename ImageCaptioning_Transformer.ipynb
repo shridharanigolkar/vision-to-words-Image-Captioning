{
  "cells": [
    {
      "cell_type": "code",
      "execution_count": null,
      "metadata": {
        "id": "7ja1K4gBbzn3"
      },
      "outputs": [],
      "source": [
        "!pip -q install kaggle"
      ]
    },
    {
      "cell_type": "code",
      "execution_count": null,
      "metadata": {
        "id": "AldVDvOgcpbc"
      },
      "outputs": [],
      "source": [
        "import tensorflow as tf\n",
        "import os\n",
        "import json\n",
        "import pandas as pd\n",
        "import re\n",
        "import numpy as np\n",
        "import time\n",
        "import matplotlib.pyplot as plt\n",
        "import collections\n",
        "import random\n",
        "import requests\n",
        "from math import sqrt\n",
        "from PIL import Image\n",
        "from tqdm.auto import tqdm"
      ]
    },
    {
      "cell_type": "code",
      "execution_count": null,
      "metadata": {
        "id": "Agz2DaoDbXZp"
      },
      "outputs": [],
      "source": [
        "if not os.path.exists('/content/data/'):\n",
        "\n",
        "    api_token = {\"username\": \"<-- your username -->\",\n",
        "                 \"key\": \"<-- your api key -->\"}\n",
        "\n",
        "    with open('/content/kaggle.json', 'w') as file:\n",
        "        json.dump(api_token, file)\n",
        "\n",
        "    os.environ[\"KAGGLE_CONFIG_DIR\"] = \"/content/\"\n",
        "\n",
        "    os.system('kaggle datasets download -d adityajn105/flickr8k')\n",
        "    os.makedirs('/content/data/', exist_ok=True)\n",
        "    os.system('mv /content/flickr8k.zip /content/data/flickr8k.zip')\n",
        "    os.system('unzip -q /content/data/flickr8k.zip -d /content/data/')\n",
        "    os.remove('/content/data/flickr8k.zip')"
      ]
    },
    {
      "cell_type": "code",
      "execution_count": null,
      "metadata": {
        "id": "WOjpQCugErhb"
      },
      "outputs": [],
      "source": [
        "captions = pd.read_csv('/content/data/captions.txt')\n",
        "captions['image'] = captions['image'].apply(\n",
        "    lambda x: f'/content/data/Images/{x}')\n",
        "captions.head()"
      ]
    },
    {
      "cell_type": "code",
      "execution_count": null,
      "metadata": {
        "id": "rWbe_xuhFaJp"
      },
      "outputs": [],
      "source": [
        "def preprocess(text):\n",
        "    text = text.lower()\n",
        "    text = re.sub(r'[^\\w\\s]', '', text)\n",
        "    text = re.sub('\\s+', ' ', text)\n",
        "    text = text.strip()\n",
        "    text = '[start] ' + text + ' [end]'\n",
        "    return text"
      ]
    },
    {
      "cell_type": "code",
      "execution_count": null,
      "metadata": {
        "id": "v_ouwWhKnEy5"
      },
      "outputs": [],
      "source": [
        "captions['caption'] = captions['caption'].apply(preprocess)\n",
        "captions.head()"
      ]
    },
    {
      "cell_type": "code",
      "execution_count": null,
      "metadata": {
        "id": "6RBuExHWnGEt"
      },
      "outputs": [],
      "source": [
        "random_row = captions.sample(1).iloc[0]\n",
        "print(random_row.caption)\n",
        "print()\n",
        "im = Image.open(random_row.image)\n",
        "im"
      ]
    },
    {
      "cell_type": "code",
      "execution_count": null,
      "metadata": {
        "id": "nSTivH_FSSf2"
      },
      "outputs": [],
      "source": [
        "MAX_LENGTH = 40\n",
        "VOCABULARY_SIZE = 10000\n",
        "BATCH_SIZE = 32\n",
        "BUFFER_SIZE = 1000\n",
        "EMBEDDING_DIM = 512\n",
        "UNITS = 512"
      ]
    },
    {
      "cell_type": "code",
      "execution_count": null,
      "metadata": {
        "id": "X8MGUNtBN2sz"
      },
      "outputs": [],
      "source": [
        "tokenizer = tf.keras.layers.TextVectorization(\n",
        "    max_tokens=VOCABULARY_SIZE,\n",
        "    standardize=None,\n",
        "    output_sequence_length=MAX_LENGTH)\n",
        "\n",
        "tokenizer.adapt(captions['caption'])"
      ]
    },
    {
      "cell_type": "code",
      "execution_count": null,
      "metadata": {
        "id": "qvhg-6eKN3nz"
      },
      "outputs": [],
      "source": [
        "word2idx = tf.keras.layers.StringLookup(\n",
        "    mask_token=\"\",\n",
        "    vocabulary=tokenizer.get_vocabulary())\n",
        "\n",
        "idx2word = tf.keras.layers.StringLookup(\n",
        "    mask_token=\"\",\n",
        "    vocabulary=tokenizer.get_vocabulary(),\n",
        "    invert=True)"
      ]
    },
    {
      "cell_type": "code",
      "execution_count": null,
      "metadata": {
        "id": "Yrca2aN2N5WL"
      },
      "outputs": [],
      "source": [
        "img_to_cap_vector = collections.defaultdict(list)\n",
        "for img, cap in zip(captions['image'], captions['caption']):\n",
        "    img_to_cap_vector[img].append(cap)\n",
        "\n",
        "img_keys = list(img_to_cap_vector.keys())\n",
        "random.shuffle(img_keys)\n",
        "\n",
        "slice_index = int(len(img_keys)*0.8)\n",
        "img_name_train_keys, img_name_val_keys = (img_keys[:slice_index],\n",
        "                                          img_keys[slice_index:])\n",
        "\n",
        "train_imgs = []\n",
        "train_captions = []\n",
        "for imgt in img_name_train_keys:\n",
        "    capt_len = len(img_to_cap_vector[imgt])\n",
        "    train_imgs.extend([imgt] * capt_len)\n",
        "    train_captions.extend(img_to_cap_vector[imgt])\n",
        "\n",
        "val_imgs = []\n",
        "val_captions = []\n",
        "for imgv in img_name_val_keys:\n",
        "    capv_len = len(img_to_cap_vector[imgv])\n",
        "    val_imgs.extend([imgv] * capv_len)\n",
        "    val_captions.extend(img_to_cap_vector[imgv])"
      ]
    },
    {
      "cell_type": "code",
      "execution_count": null,
      "metadata": {
        "id": "UHN3Q1YDN5TD"
      },
      "outputs": [],
      "source": [
        "len(train_imgs), len(train_captions), len(val_imgs), len(val_captions)"
      ]
    },
    {
      "cell_type": "code",
      "execution_count": null,
      "metadata": {
        "id": "12c-7FHzOFSq"
      },
      "outputs": [],
      "source": [
        "def load_data(img_path, caption):\n",
        "    img = tf.io.read_file(img_path)\n",
        "    img = tf.io.decode_jpeg(img, channels=3)\n",
        "    img = tf.keras.layers.Resizing(299, 299)(img)\n",
        "    img = img / 255.\n",
        "    caption = tokenizer(caption)\n",
        "    return img, caption"
      ]
    },
    {
      "cell_type": "code",
      "execution_count": null,
      "metadata": {
        "id": "vHk83y3eOFPz"
      },
      "outputs": [],
      "source": [
        "train_dataset = tf.data.Dataset.from_tensor_slices(\n",
        "    (train_imgs, train_captions))\n",
        "\n",
        "train_dataset = train_dataset.map(\n",
        "    load_data, num_parallel_calls=tf.data.AUTOTUNE\n",
        "    ).shuffle(BUFFER_SIZE).batch(BATCH_SIZE)\n",
        "\n",
        "val_dataset = tf.data.Dataset.from_tensor_slices(\n",
        "    (val_imgs, val_captions))\n",
        "\n",
        "val_dataset = val_dataset.map(\n",
        "    load_data, num_parallel_calls=tf.data.AUTOTUNE\n",
        "    ).shuffle(BUFFER_SIZE).batch(BATCH_SIZE)"
      ]
    },
    {
      "cell_type": "code",
      "execution_count": null,
      "metadata": {
        "id": "bQr_bgk11eMF"
      },
      "outputs": [],
      "source": [
        "image_augmentation = tf.keras.Sequential(\n",
        "    [\n",
        "        tf.keras.layers.RandomFlip(\"horizontal\"),\n",
        "        tf.keras.layers.RandomRotation(0.2),\n",
        "        tf.keras.layers.RandomContrast(0.3),\n",
        "    ]\n",
        ")"
      ]
    },
    {
      "cell_type": "code",
      "execution_count": null,
      "metadata": {
        "id": "H9GDJ9_1nIMO"
      },
      "outputs": [],
      "source": [
        "def CNN_Encoder():\n",
        "    inception_v3 = tf.keras.applications.InceptionV3(\n",
        "        include_top=False,\n",
        "        weights='imagenet'\n",
        "    )\n",
        "    inception_v3.trainable = False\n",
        "\n",
        "    output = inception_v3.output\n",
        "    output = tf.keras.layers.Reshape(\n",
        "        (-1, output.shape[-1]))(output)\n",
        "\n",
        "    cnn_model = tf.keras.models.Model(inception_v3.input, output)\n",
        "    return cnn_model"
      ]
    },
    {
      "cell_type": "code",
      "execution_count": null,
      "metadata": {
        "id": "jMy5MrE2PdHV"
      },
      "outputs": [],
      "source": [
        "class TransformerEncoderLayer(tf.keras.layers.Layer):\n",
        "\n",
        "    def __init__(self, embed_dim, num_heads):\n",
        "        super().__init__()\n",
        "        self.layer_norm_1 = tf.keras.layers.LayerNormalization()\n",
        "        self.layer_norm_2 = tf.keras.layers.LayerNormalization()\n",
        "        self.attention = tf.keras.layers.MultiHeadAttention(\n",
        "            num_heads=num_heads, key_dim=embed_dim)\n",
        "        self.dense = tf.keras.layers.Dense(embed_dim, activation=\"relu\")\n",
        "\n",
        "\n",
        "    def call(self, x, training):\n",
        "        x = self.layer_norm_1(x)\n",
        "        x = self.dense(x)\n",
        "\n",
        "        attn_output = self.attention(\n",
        "            query=x,\n",
        "            value=x,\n",
        "            key=x,\n",
        "            attention_mask=None,\n",
        "            training=training\n",
        "        )\n",
        "\n",
        "        x = self.layer_norm_2(x + attn_output)\n",
        "        return x"
      ]
    },
    {
      "cell_type": "code",
      "execution_count": null,
      "metadata": {
        "id": "MFqNFts0duGB"
      },
      "outputs": [],
      "source": [
        "class Embeddings(tf.keras.layers.Layer):\n",
        "\n",
        "    def __init__(self, vocab_size, embed_dim, max_len):\n",
        "        super().__init__()\n",
        "        self.token_embeddings = tf.keras.layers.Embedding(\n",
        "            vocab_size, embed_dim)\n",
        "        self.position_embeddings = tf.keras.layers.Embedding(\n",
        "            max_len, embed_dim, input_shape=(None, max_len))\n",
        "\n",
        "\n",
        "    def call(self, input_ids):\n",
        "        length = tf.shape(input_ids)[-1]\n",
        "        position_ids = tf.range(start=0, limit=length, delta=1)\n",
        "        position_ids = tf.expand_dims(position_ids, axis=0)\n",
        "\n",
        "        token_embeddings = self.token_embeddings(input_ids)\n",
        "        position_embeddings = self.position_embeddings(position_ids)\n",
        "\n",
        "        return token_embeddings + position_embeddings"
      ]
    },
    {
      "cell_type": "code",
      "execution_count": null,
      "metadata": {
        "id": "K7QfeQ1XbXWE"
      },
      "outputs": [],
      "source": [
        "Embeddings(tokenizer.vocabulary_size(), EMBEDDING_DIM, MAX_LENGTH)(next(iter(train_dataset))[1]).shape"
      ]
    },
    {
      "cell_type": "code",
      "execution_count": null,
      "metadata": {
        "id": "pcbCQqrDnJ4-"
      },
      "outputs": [],
      "source": [
        "class TransformerDecoderLayer(tf.keras.layers.Layer):\n",
        "\n",
        "    def __init__(self, embed_dim, units, num_heads):\n",
        "        super().__init__()\n",
        "        self.embedding = Embeddings(\n",
        "            tokenizer.vocabulary_size(), embed_dim, MAX_LENGTH)\n",
        "\n",
        "        self.attention_1 = tf.keras.layers.MultiHeadAttention(\n",
        "            num_heads=num_heads, key_dim=embed_dim, dropout=0.1\n",
        "        )\n",
        "        self.attention_2 = tf.keras.layers.MultiHeadAttention(\n",
        "            num_heads=num_heads, key_dim=embed_dim, dropout=0.1\n",
        "        )\n",
        "\n",
        "        self.layernorm_1 = tf.keras.layers.LayerNormalization()\n",
        "        self.layernorm_2 = tf.keras.layers.LayerNormalization()\n",
        "        self.layernorm_3 = tf.keras.layers.LayerNormalization()\n",
        "\n",
        "        self.ffn_layer_1 = tf.keras.layers.Dense(units, activation=\"relu\")\n",
        "        self.ffn_layer_2 = tf.keras.layers.Dense(embed_dim)\n",
        "\n",
        "        self.out = tf.keras.layers.Dense(tokenizer.vocabulary_size(), activation=\"softmax\")\n",
        "\n",
        "        self.dropout_1 = tf.keras.layers.Dropout(0.3)\n",
        "        self.dropout_2 = tf.keras.layers.Dropout(0.5)\n",
        "\n",
        "\n",
        "    def call(self, input_ids, encoder_output, training, mask=None):\n",
        "        embeddings = self.embedding(input_ids)\n",
        "\n",
        "        combined_mask = None\n",
        "        padding_mask = None\n",
        "\n",
        "        if mask is not None:\n",
        "            causal_mask = self.get_causal_attention_mask(embeddings)\n",
        "            padding_mask = tf.cast(mask[:, :, tf.newaxis], dtype=tf.int32)\n",
        "            combined_mask = tf.cast(mask[:, tf.newaxis, :], dtype=tf.int32)\n",
        "            combined_mask = tf.minimum(combined_mask, causal_mask)\n",
        "\n",
        "        attn_output_1 = self.attention_1(\n",
        "            query=embeddings,\n",
        "            value=embeddings,\n",
        "            key=embeddings,\n",
        "            attention_mask=combined_mask,\n",
        "            training=training\n",
        "        )\n",
        "\n",
        "        out_1 = self.layernorm_1(embeddings + attn_output_1)\n",
        "\n",
        "        attn_output_2 = self.attention_2(\n",
        "            query=out_1,\n",
        "            value=encoder_output,\n",
        "            key=encoder_output,\n",
        "            attention_mask=padding_mask,\n",
        "            training=training\n",
        "        )\n",
        "\n",
        "        out_2 = self.layernorm_2(out_1 + attn_output_2)\n",
        "\n",
        "        ffn_out = self.ffn_layer_1(out_2)\n",
        "        ffn_out = self.dropout_1(ffn_out, training=training)\n",
        "        ffn_out = self.ffn_layer_2(ffn_out)\n",
        "\n",
        "        ffn_out = self.layernorm_3(ffn_out + out_2)\n",
        "        ffn_out = self.dropout_2(ffn_out, training=training)\n",
        "        preds = self.out(ffn_out)\n",
        "        return preds\n",
        "\n",
        "\n",
        "    def get_causal_attention_mask(self, inputs):\n",
        "        input_shape = tf.shape(inputs)\n",
        "        batch_size, sequence_length = input_shape[0], input_shape[1]\n",
        "        i = tf.range(sequence_length)[:, tf.newaxis]\n",
        "        j = tf.range(sequence_length)\n",
        "        mask = tf.cast(i >= j, dtype=\"int32\")\n",
        "        mask = tf.reshape(mask, (1, input_shape[1], input_shape[1]))\n",
        "        mult = tf.concat(\n",
        "            [tf.expand_dims(batch_size, -1), tf.constant([1, 1], dtype=tf.int32)],\n",
        "            axis=0\n",
        "        )\n",
        "        return tf.tile(mask, mult)"
      ]
    },
    {
      "cell_type": "code",
      "execution_count": null,
      "metadata": {
        "id": "9_NmSUaVys9R"
      },
      "outputs": [],
      "source": [
        "class ImageCaptioningModel(tf.keras.Model):\n",
        "\n",
        "    def __init__(self, cnn_model, encoder, decoder, image_aug=None):\n",
        "        super().__init__()\n",
        "        self.cnn_model = cnn_model\n",
        "        self.encoder = encoder\n",
        "        self.decoder = decoder\n",
        "        self.image_aug = image_aug\n",
        "        self.loss_tracker = tf.keras.metrics.Mean(name=\"loss\")\n",
        "        self.acc_tracker = tf.keras.metrics.Mean(name=\"accuracy\")\n",
        "\n",
        "\n",
        "    def calculate_loss(self, y_true, y_pred, mask):\n",
        "        loss = self.loss(y_true, y_pred)\n",
        "        mask = tf.cast(mask, dtype=loss.dtype)\n",
        "        loss *= mask\n",
        "        return tf.reduce_sum(loss) / tf.reduce_sum(mask)\n",
        "\n",
        "\n",
        "    def calculate_accuracy(self, y_true, y_pred, mask):\n",
        "        accuracy = tf.equal(y_true, tf.argmax(y_pred, axis=2))\n",
        "        accuracy = tf.math.logical_and(mask, accuracy)\n",
        "        accuracy = tf.cast(accuracy, dtype=tf.float32)\n",
        "        mask = tf.cast(mask, dtype=tf.float32)\n",
        "        return tf.reduce_sum(accuracy) / tf.reduce_sum(mask)\n",
        "\n",
        "\n",
        "    def compute_loss_and_acc(self, img_embed, captions, training=True):\n",
        "        encoder_output = self.encoder(img_embed, training=True)\n",
        "        y_input = captions[:, :-1]\n",
        "        y_true = captions[:, 1:]\n",
        "        mask = (y_true != 0)\n",
        "        y_pred = self.decoder(\n",
        "            y_input, encoder_output, training=True, mask=mask\n",
        "        )\n",
        "        loss = self.calculate_loss(y_true, y_pred, mask)\n",
        "        acc = self.calculate_accuracy(y_true, y_pred, mask)\n",
        "        return loss, acc\n",
        "\n",
        "\n",
        "    def train_step(self, batch):\n",
        "        imgs, captions = batch\n",
        "\n",
        "        if self.image_aug:\n",
        "            imgs = self.image_aug(imgs)\n",
        "\n",
        "        img_embed = self.cnn_model(imgs)\n",
        "\n",
        "        with tf.GradientTape() as tape:\n",
        "            loss, acc = self.compute_loss_and_acc(\n",
        "                img_embed, captions\n",
        "            )\n",
        "\n",
        "        train_vars = (\n",
        "            self.encoder.trainable_variables + self.decoder.trainable_variables\n",
        "        )\n",
        "        grads = tape.gradient(loss, train_vars)\n",
        "        self.optimizer.apply_gradients(zip(grads, train_vars))\n",
        "        self.loss_tracker.update_state(loss)\n",
        "        self.acc_tracker.update_state(acc)\n",
        "\n",
        "        return {\"loss\": self.loss_tracker.result(), \"acc\": self.acc_tracker.result()}\n",
        "\n",
        "\n",
        "    def test_step(self, batch):\n",
        "        imgs, captions = batch\n",
        "\n",
        "        img_embed = self.cnn_model(imgs)\n",
        "\n",
        "        loss, acc = self.compute_loss_and_acc(\n",
        "            img_embed, captions, training=False\n",
        "        )\n",
        "\n",
        "        self.loss_tracker.update_state(loss)\n",
        "        self.acc_tracker.update_state(acc)\n",
        "\n",
        "        return {\"loss\": self.loss_tracker.result(), \"acc\": self.acc_tracker.result()}\n",
        "\n",
        "    @property\n",
        "    def metrics(self):\n",
        "        return [self.loss_tracker, self.acc_tracker]"
      ]
    },
    {
      "cell_type": "code",
      "execution_count": null,
      "metadata": {
        "id": "GqWpcsje0Hkh"
      },
      "outputs": [],
      "source": [
        "encoder = TransformerEncoderLayer(EMBEDDING_DIM, 1)\n",
        "decoder = TransformerDecoderLayer(EMBEDDING_DIM, UNITS, 8)\n",
        "\n",
        "cnn_model = CNN_Encoder()\n",
        "caption_model = ImageCaptioningModel(\n",
        "    cnn_model=cnn_model, encoder=encoder, decoder=decoder, image_aug=image_augmentation,\n",
        ")"
      ]
    },
    {
      "cell_type": "code",
      "execution_count": null,
      "metadata": {
        "id": "bayNssgNX6QN"
      },
      "outputs": [],
      "source": [
        "cross_entropy = tf.keras.losses.SparseCategoricalCrossentropy(\n",
        "    from_logits=False, reduction=\"none\"\n",
        ")\n",
        "\n",
        "early_stopping = tf.keras.callbacks.EarlyStopping(patience=3, restore_best_weights=True)\n",
        "\n",
        "caption_model.compile(\n",
        "    optimizer=tf.keras.optimizers.Adam(),\n",
        "    loss=cross_entropy\n",
        ")"
      ]
    },
    {
      "cell_type": "code",
      "execution_count": null,
      "metadata": {
        "id": "1RYo-MRVYn49"
      },
      "outputs": [],
      "source": [
        "history = caption_model.fit(\n",
        "    train_dataset,\n",
        "    epochs=5,\n",
        "    validation_data=val_dataset,\n",
        "    callbacks=[early_stopping]\n",
        ")"
      ]
    },
    {
      "cell_type": "code",
      "execution_count": null,
      "metadata": {
        "id": "h2u16yXW3-1e"
      },
      "outputs": [],
      "source": [
        "idx2word(2).numpy().decode('utf-8')"
      ]
    },
    {
      "cell_type": "code",
      "execution_count": null,
      "metadata": {
        "id": "3ErlQQICtj_g"
      },
      "outputs": [],
      "source": [
        "def load_image_from_path(img_path):\n",
        "    img = tf.io.read_file(img_path)\n",
        "    img = tf.io.decode_jpeg(img, channels=3)\n",
        "    img = tf.keras.layers.Resizing(299, 299)(img)\n",
        "    img = img / 255.\n",
        "    return img\n",
        "\n",
        "\n",
        "def generate_caption(img_path):\n",
        "    img = load_image_from_path(img_path)\n",
        "    img = tf.expand_dims(img, axis=0)\n",
        "    img_embed = caption_model.cnn_model(img)\n",
        "    img_encoded = caption_model.encoder(img_embed, training=False)\n",
        "\n",
        "    y_inp = '[start]'\n",
        "    for i in range(MAX_LENGTH-1):\n",
        "        tokenized = tokenizer([y_inp])[:, :-1]\n",
        "        mask = tf.cast(tokenized != 0, tf.int32)\n",
        "        pred = caption_model.decoder(\n",
        "            tokenized, img_encoded, training=False, mask=mask)\n",
        "\n",
        "        pred_idx = np.argmax(pred[0, i, :])\n",
        "        pred_word = idx2word(pred_idx).numpy().decode('utf-8')\n",
        "        if pred_word == '[end]':\n",
        "            break\n",
        "\n",
        "        y_inp += ' ' + pred_word\n",
        "\n",
        "    y_inp = y_inp.replace('[start] ', '')\n",
        "    return y_inp"
      ]
    },
    {
      "cell_type": "code",
      "execution_count": null,
      "metadata": {
        "id": "27_bJe_M1Drr"
      },
      "outputs": [],
      "source": [
        "idx = random.randrange(0, len(val_imgs))\n",
        "img_path = val_imgs[idx]\n",
        "\n",
        "pred_caption = generate_caption(img_path)\n",
        "print('Predicted Caption:', pred_caption)\n",
        "print()\n",
        "Image.open(img_path)"
      ]
    },
    {
      "cell_type": "code",
      "execution_count": null,
      "metadata": {
        "id": "g0F4CKiy6G_p"
      },
      "outputs": [],
      "source": [
        "url = \"https://encrypted-tbn0.gstatic.com/images?q=tbn:ANd9GcT2j6yclbKYDav4BGUKLAdTvSFXp1gtuzy5DQ&usqp=CAU\"\n",
        "im = Image.open(requests.get(url, stream=True).raw)\n",
        "im.save('tmp.jpg')\n",
        "\n",
        "pred_caption = generate_caption('tmp.jpg')\n",
        "print('Predicted Caption:', pred_caption)\n",
        "print()\n",
        "im"
      ]
    }
  ],
  "metadata": {
    "accelerator": "GPU",
    "colab": {
      "provenance": []
    },
    "gpuClass": "standard",
    "kernelspec": {
      "display_name": "Python 3",
      "name": "python3"
    },
    "language_info": {
      "name": "python"
    }
  },
  "nbformat": 4,
  "nbformat_minor": 0
}
